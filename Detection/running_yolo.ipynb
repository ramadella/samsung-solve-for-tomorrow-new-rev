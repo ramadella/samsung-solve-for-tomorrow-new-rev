{
  "nbformat": 4,
  "nbformat_minor": 0,
  "metadata": {
    "colab": {
      "provenance": []
    },
    "kernelspec": {
      "name": "python3",
      "display_name": "Python 3"
    },
    "language_info": {
      "name": "python"
    }
  },
  "cells": [
    {
      "cell_type": "markdown",
      "source": [
        "###Download keperluan Yolo"
      ],
      "metadata": {
        "id": "fYEZx3DwJ207"
      }
    },
    {
      "cell_type": "code",
      "execution_count": 1,
      "metadata": {
        "colab": {
          "base_uri": "https://localhost:8080/"
        },
        "id": "inrlhh5YGJps",
        "outputId": "b85f47d3-fb46-4ae9-8323-b655b520eed8"
      },
      "outputs": [
        {
          "output_type": "stream",
          "name": "stdout",
          "text": [
            "\u001b[2K     \u001b[90m━━━━━━━━━━━━━━━━━━━━━━━━━━━━━━━━━━━━━━━━\u001b[0m \u001b[32m41.9/41.9 kB\u001b[0m \u001b[31m2.0 MB/s\u001b[0m eta \u001b[36m0:00:00\u001b[0m\n",
            "\u001b[2K   \u001b[90m━━━━━━━━━━━━━━━━━━━━━━━━━━━━━━━━━━━━━━━━\u001b[0m \u001b[32m871.8/871.8 kB\u001b[0m \u001b[31m22.1 MB/s\u001b[0m eta \u001b[36m0:00:00\u001b[0m\n",
            "\u001b[?25h"
          ]
        }
      ],
      "source": [
        "!pip install ultralytics -q"
      ]
    },
    {
      "cell_type": "markdown",
      "source": [
        "###Persiapkan Model"
      ],
      "metadata": {
        "id": "1BGCHwVJKDNH"
      }
    },
    {
      "cell_type": "code",
      "source": [
        "!wget https://codeload.github.com/teamsmcorg/Waste-Classification-using-YOLOv8/zip/refs/heads/main.zip"
      ],
      "metadata": {
        "colab": {
          "base_uri": "https://localhost:8080/"
        },
        "id": "2fkrEGw-H5U3",
        "outputId": "b5b4976b-66c8-4293-ea5d-026b900a18ce"
      },
      "execution_count": null,
      "outputs": [
        {
          "output_type": "stream",
          "name": "stdout",
          "text": [
            "--2024-09-07 03:30:05--  https://codeload.github.com/teamsmcorg/Waste-Classification-using-YOLOv8/zip/refs/heads/main.zip\n",
            "Resolving codeload.github.com (codeload.github.com)... 140.82.114.10\n",
            "Connecting to codeload.github.com (codeload.github.com)|140.82.114.10|:443... connected.\n",
            "HTTP request sent, awaiting response... 404 Not Found\n",
            "2024-09-07 03:30:05 ERROR 404: Not Found.\n",
            "\n"
          ]
        }
      ]
    },
    {
      "cell_type": "code",
      "source": [
        "!unzip /content/main"
      ],
      "metadata": {
        "colab": {
          "base_uri": "https://localhost:8080/"
        },
        "id": "VKGBVGB_ISyU",
        "outputId": "decc5c05-4780-4cf9-83bb-b9da201296ec"
      },
      "execution_count": null,
      "outputs": [
        {
          "output_type": "stream",
          "name": "stdout",
          "text": [
            "unzip:  cannot find or open /content/main, /content/main.zip or /content/main.ZIP.\n"
          ]
        }
      ]
    },
    {
      "cell_type": "markdown",
      "source": [
        "Pindahkan model ke main directory"
      ],
      "metadata": {
        "id": "At5G9BKiKGgu"
      }
    },
    {
      "cell_type": "code",
      "source": [
        "!cp \"/content/Waste-Classification-using-YOLOv8-main/streamlit-detection-tracking - app/weights/best.pt\" \"/content\""
      ],
      "metadata": {
        "id": "Lvq5p5uKIwQb",
        "colab": {
          "base_uri": "https://localhost:8080/"
        },
        "outputId": "5a554f0e-2b8a-4774-bb1f-0e1d40ab3e47"
      },
      "execution_count": null,
      "outputs": [
        {
          "output_type": "stream",
          "name": "stdout",
          "text": [
            "cp: cannot stat '/content/Waste-Classification-using-YOLOv8-main/streamlit-detection-tracking - app/weights/best.pt': No such file or directory\n"
          ]
        }
      ]
    },
    {
      "cell_type": "markdown",
      "source": [
        "###Running dengan Feedback Default\n",
        "Copy Paste sebuah foto atau video ke Google Colab\n",
        "Ganti Source sesuai nama file, dan jalankan"
      ],
      "metadata": {
        "id": "4Sho4BpIKRXd"
      }
    },
    {
      "cell_type": "code",
      "source": [
        "!yolo detect predict model=best.pt source=\"test.jpg\""
      ],
      "metadata": {
        "colab": {
          "base_uri": "https://localhost:8080/"
        },
        "id": "fd14KYh8IcSD",
        "outputId": "7b026fd1-dbce-40cc-c0e6-6bf0bc0b574e"
      },
      "execution_count": null,
      "outputs": [
        {
          "output_type": "stream",
          "name": "stdout",
          "text": [
            "Ultralytics YOLOv8.2.90 🚀 Python-3.10.12 torch-2.4.0+cu121 CPU (Intel Xeon 2.20GHz)\n",
            "Model summary (fused): 168 layers, 11,127,906 parameters, 0 gradients, 28.4 GFLOPs\n",
            "\n",
            "image 1/1 /content/test.jpg: 544x800 1 METAL, 7 PAPERs, 1 PLASTIC, 780.9ms\n",
            "Speed: 18.1ms preprocess, 780.9ms inference, 22.7ms postprocess per image at shape (1, 3, 544, 800)\n",
            "Results saved to \u001b[1mruns/detect/predict\u001b[0m\n",
            "💡 Learn more at https://docs.ultralytics.com/modes/predict\n"
          ]
        }
      ]
    },
    {
      "cell_type": "markdown",
      "source": [
        "##Feedback Yang Jelas\n",
        "Pada program dibawah ini, akan dilakukan running program yolo dan feedback yang dihasilkan hanyalah urutan dari ID objek yang telah terdeteksi"
      ],
      "metadata": {
        "id": "xNMqM3vI89dN"
      }
    },
    {
      "cell_type": "code",
      "source": [
        "from ultralytics import YOLO\n",
        "model = YOLO(\"best.pt\")\n",
        "results = model('test.jpg', show=True)"
      ],
      "metadata": {
        "colab": {
          "base_uri": "https://localhost:8080/"
        },
        "id": "mURFxh92vPiW",
        "outputId": "f35d3112-f879-4b5e-964e-c754c4451cb6"
      },
      "execution_count": null,
      "outputs": [
        {
          "output_type": "stream",
          "name": "stdout",
          "text": [
            "WARNING ⚠️ Environment does not support cv2.imshow() or PIL Image.show()\n",
            "\n",
            "\n",
            "image 1/1 /content/test.jpg: 544x800 1 METAL, 7 PAPERs, 1 PLASTIC, 674.1ms\n",
            "Speed: 6.2ms preprocess, 674.1ms inference, 1.5ms postprocess per image at shape (1, 3, 544, 800)\n"
          ]
        }
      ]
    },
    {
      "cell_type": "code",
      "source": [
        "count = 0\n",
        "for result in results:\n",
        "    for box in result.boxes:\n",
        "        class_id = int(box.data[0][-1])\n",
        "        # print(model.names[class_id])\n",
        "        print(class_id, end=\",\")"
      ],
      "metadata": {
        "colab": {
          "base_uri": "https://localhost:8080/"
        },
        "id": "CXUT1_d2ubgy",
        "outputId": "0648a419-e545-43d2-b768-3ddc59a864ed"
      },
      "execution_count": null,
      "outputs": [
        {
          "output_type": "stream",
          "name": "stdout",
          "text": [
            "PAPER\n",
            "4\n",
            "METAL\n",
            "3\n",
            "PAPER\n",
            "4\n",
            "PAPER\n",
            "4\n",
            "PAPER\n",
            "4\n",
            "PAPER\n",
            "4\n",
            "PLASTIC\n",
            "5\n",
            "PAPER\n",
            "4\n",
            "PAPER\n",
            "4\n",
            "9\n"
          ]
        }
      ]
    }
  ]
}